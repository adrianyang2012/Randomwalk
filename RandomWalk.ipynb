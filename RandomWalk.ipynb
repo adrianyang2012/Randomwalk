{
  "nbformat": 4,
  "nbformat_minor": 0,
  "metadata": {
    "colab": {
      "name": "Untitled2.ipynb",
      "private_outputs": true,
      "provenance": [],
      "authorship_tag": "ABX9TyP6ONKZ9qcKBqOWOYS/HQ8w",
      "include_colab_link": true
    },
    "kernelspec": {
      "name": "python3",
      "display_name": "Python 3"
    },
    "language_info": {
      "name": "python"
    }
  },
  "cells": [
    {
      "cell_type": "markdown",
      "metadata": {
        "id": "view-in-github",
        "colab_type": "text"
      },
      "source": [
        "<a href=\"https://colab.research.google.com/github/adrianyang2012/Randomwalk/blob/main/RandomWalk.ipynb\" target=\"_parent\"><img src=\"https://colab.research.google.com/assets/colab-badge.svg\" alt=\"Open In Colab\"/></a>"
      ]
    },
    {
      "cell_type": "code",
      "execution_count": null,
      "metadata": {
        "id": "gPHM8eQJHCLl"
      },
      "outputs": [],
      "source": [
        "import random\n",
        "import matplotlib\n",
        "import matplotlib.pyplot as plt\n",
        "from random import choice as chose\n",
        "plt.title('TSP(Traveling Salesman problem) -small steps',fontsize=15)\n",
        "max_add = 2\n",
        "min_add = -2\n",
        "dots = 10000\n",
        "y = [random.randint(0,100)]\n",
        "x = [random.randint(0,100)]\n",
        "for i in range(0,dots):\n",
        "  y.append(y[-1]+random.randint(min_add,max_add))\n",
        "  x.append(x[-1]+random.randint(min_add,max_add))\n",
        "t = y\n",
        "for i in range(0,10):\n",
        "  plt.scatter(x,y,c=t, cmap=chose(['viridis', 'plasma', 'inferno', 'magma', 'cividis','Greys', 'Purples', 'Blues', 'Greens', 'Oranges', 'Reds',\n",
        "                        'YlOrBr', 'YlOrRd', 'OrRd', 'PuRd', 'RdPu', 'BuPu',\n",
        "                        'GnBu', 'PuBu', 'YlGnBu', 'PuBuGn', 'BuGn', 'YlGn','PiYG', 'PRGn', 'BrBG', 'PuOr', 'RdGy', 'RdBu', 'RdYlBu',\n",
        "                        'RdYlGn', 'Spectral', 'coolwarm', 'bwr', 'seismic','twilight', 'twilight_shifted', 'hsv','Pastel1', 'Pastel2', 'Paired', 'Accent', 'Dark2',\n",
        "                        'Set1', 'Set2', 'Set3', 'tab10', 'tab20', 'tab20b',\n",
        "                        'tab20c','flag', 'prism', 'ocean', 'gist_earth', 'terrain',\n",
        "                        'gist_stern', 'gnuplot', 'gnuplot2', 'CMRmap',\n",
        "                        'cubehelix', 'brg', 'gist_rainbow', 'rainbow', 'jet',\n",
        "                        'nipy_spectral', 'gist_ncar']))\n",
        "  plt.show()"
      ]
    }
  ]
}